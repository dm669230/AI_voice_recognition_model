{
 "cells": [
  {
   "cell_type": "code",
   "execution_count": 3,
   "metadata": {},
   "outputs": [],
   "source": [
    "import speech_recognition as sr\n",
    "import pyaudio as pu"
   ]
  },
  {
   "cell_type": "code",
   "execution_count": 9,
   "metadata": {},
   "outputs": [
    {
     "name": "stdout",
     "output_type": "stream",
     "text": [
      "this voice is recorded for test purpose only\n"
     ]
    }
   ],
   "source": [
    "r = sr.Recognizer()\n",
    "\n",
    "test_model = sr.AudioFile(\"audio_sample/Ai-model-test-voice.wav\")\n",
    "with test_model as source:\n",
    "    audio = r.record(source, duration=5)\n",
    "    text = r.recognize_google(audio)\n",
    "    print(text)\n"
   ]
  },
  {
   "cell_type": "code",
   "execution_count": 39,
   "metadata": {},
   "outputs": [],
   "source": [
    "mic = sr.Microphone()"
   ]
  },
  {
   "cell_type": "code",
   "execution_count": 48,
   "metadata": {},
   "outputs": [
    {
     "name": "stdout",
     "output_type": "stream",
     "text": [
      "say something >>()<< \n",
      "<speech_recognition.audio.AudioData object at 0x000002264600AB90>\n",
      "Recognizing your voice...\n",
      "You said :  I am a great guy\n"
     ]
    }
   ],
   "source": [
    "\n",
    "with mic as source:\n",
    "    try:\n",
    "        r.adjust_for_ambient_noise(source,duration=5)\n",
    "        print(\"say something >>()<< \")\n",
    "        audio = r.listen(source,phrase_time_limit=3)\n",
    "        print(audio)\n",
    "        if audio:\n",
    "            print(\"Recognizing your voice...\")\n",
    "            text = r.recognize_google(audio)\n",
    "            print(\"You said : \",text)\n",
    "            pass\n",
    "        else:\n",
    "            print(\"No speech detected. Say something..\")\n",
    "    \n",
    "    except :\n",
    "        print(\"there is no voice detected\")"
   ]
  },
  {
   "cell_type": "markdown",
   "metadata": {},
   "source": []
  }
 ],
 "metadata": {
  "kernelspec": {
   "display_name": "myenv",
   "language": "python",
   "name": "python3"
  },
  "language_info": {
   "codemirror_mode": {
    "name": "ipython",
    "version": 3
   },
   "file_extension": ".py",
   "mimetype": "text/x-python",
   "name": "python",
   "nbconvert_exporter": "python",
   "pygments_lexer": "ipython3",
   "version": "3.11.4"
  }
 },
 "nbformat": 4,
 "nbformat_minor": 2
}
